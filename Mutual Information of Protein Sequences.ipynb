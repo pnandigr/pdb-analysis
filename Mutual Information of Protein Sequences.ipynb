{
 "cells": [
  {
   "cell_type": "code",
   "execution_count": 2,
   "metadata": {},
   "outputs": [],
   "source": [
    "# All the important Import statements\n",
    "\n",
    "from Bio import AlignIO\n",
    "from Bio import SeqIO\n",
    "from Bio.Seq import Seq\n",
    "from Bio.Alphabet import IUPAC\n",
    "from Bio.SeqRecord import SeqRecord\n",
    "from collections import Counter\n",
    "import pandas as pd\n",
    "import numpy as np\n",
    "import matplotlib.pyplot as plt\n",
    "import random\n",
    "import os\n",
    "from tqdm import tqdm\n"
   ]
  },
  {
   "cell_type": "code",
   "execution_count": 137,
   "metadata": {},
   "outputs": [],
   "source": [
    "def getEntropy(x):\n",
    "    return x * np.log(x)\n",
    "\n",
    "\n",
    "\n",
    "class Prot_Seq_Entropy:\n",
    "    \n",
    "    AA_resid = ['A', 'R', 'N', 'D', 'B', 'C', \n",
    "                'E', 'Q', 'Z', 'G', 'H', 'I', \n",
    "                'L', 'K', 'M', 'F', 'P', 'T', \n",
    "                'W', 'Y', 'V']\n",
    "    AA_zeros = [0] * len(AA_resid)\n",
    "    ME_headers = AA_resid\n",
    "    MI_headers = [\"{}{}\" for aa, b_ in zip(AA_resid, ['A', 'B', 'AB'])]\n",
    "    \n",
    "    def __init__(self, seq_list, A_len):\n",
    "        self.seq_list = seq_list\n",
    "        self.A_len = A_len\n",
    "        self.df_marginal_entropy_count = pd.DataFrame(0, index=np.arange(0, 2*A_len), columns=self.ME_headers)\n",
    "        self.df_marginal_entropy_prob  = pd.DataFrame(0.0, index=np.arange(0, 2*A_len), columns=self.ME_headers)\n",
    "        self.df_mutual_information_count = pd.DataFrame(0, index=np.arange(0, 2*A_len), columns=self.MI_headers)\n",
    "        self.df_mutual_information_prob  = pd.DataFrame(0.0, index=np.arange(0, 2*A_len), columns=self.MI_headers)\n",
    "        self.df_marginal_entropy_count.index.rename('resnum', inplace=True)\n",
    "        self.df_marginal_entropy_prob.index.rename('resnum', inplace=True)\n",
    "        self.df_mutual_information_count.index.rename('resnum', inplace=True)\n",
    "        self.df_mutual_information_prob.index.rename('resnum', inplace=True)\n",
    "        \n",
    "        \n",
    "    def compute_p_resnum(self, resnum):\n",
    "        # self.df_marginal_entropy_count.loc[resnum] = pd.DataFrame([self.AA_zeros], columns=self.ME_headers)\n",
    "        for myseq in self.seq_list:\n",
    "            self.df_marginal_entropy_count.loc[resnum, myseq[resnum]] = self.df_marginal_entropy_count.loc[resnum, myseq[resnum]] + 1\n",
    "        self.df_marginal_entropy_prob.loc[resnum] = (self.df_marginal_entropy_count.loc[resnum] \n",
    "                                                     * (1 / len(self.seq_list)))\n",
    "        print(self.df_marginal_entropy_count)\n",
    "    \n",
    "    \n",
    "    def add_seq(self, new_seq):\n",
    "        self.seq_list.extend(add_seq)\n",
    "    \n",
    "    \n",
    "    def entropy_of_resnum(self, resnum):\n",
    "        self.compute_p_resnum(resnum)\n",
    "        return self.df_marginal_entropy_prob.loc[resnum].apply(getEntropy)\n",
    "    \n",
    "        \n",
    "    #def mutual_information_respair(self, resnum1, resnum2):\n",
    "        #self.entropy_r1 = self.entropy_of_resnum(resnum1)\n",
    "        #self.entropy_r2 = self.entropy_of_resnum(resnum2)\n",
    "        \n",
    "        \n",
    "    "
   ]
  },
  {
   "cell_type": "code",
   "execution_count": 138,
   "metadata": {},
   "outputs": [
    {
     "name": "stdout",
     "output_type": "stream",
     "text": [
      "        A  R  N  D  B  C  E  Q  Z  G ...  I  L  K  M  F  P  T  W  Y  V\n",
      "resnum                               ...                              \n",
      "0       0  0  0  0  0  0  0  0  0  0 ...  0  0  0  0  0  0  0  0  0  0\n",
      "1       0  0  0  0  0  0  0  0  0  0 ...  0  0  0  0  0  0  0  0  0  0\n",
      "2       0  0  0  0  0  0  0  0  0  0 ...  0  0  0  0  0  0  0  0  0  0\n",
      "3       0  0  0  0  0  0  0  0  0  0 ...  0  0  0  0  0  0  0  0  0  0\n",
      "4       0  0  0  0  0  0  0  0  0  3 ...  0  1  0  0  0  0  0  0  0  0\n",
      "5       0  0  0  0  0  0  0  0  0  0 ...  0  0  0  0  0  0  0  0  0  0\n",
      "6       0  0  0  0  0  0  0  0  0  0 ...  0  0  0  0  0  0  0  0  0  0\n",
      "7       0  0  0  0  0  0  0  0  0  0 ...  0  0  0  0  0  0  0  0  0  0\n",
      "8       0  0  0  0  0  0  0  0  0  0 ...  0  0  0  0  0  0  0  0  0  0\n",
      "9       0  0  0  0  0  0  0  0  0  0 ...  0  0  0  0  0  0  0  0  0  0\n",
      "\n",
      "[10 rows x 21 columns]\n"
     ]
    },
    {
     "data": {
      "text/plain": [
       "A         NaN\n",
       "R         NaN\n",
       "N         NaN\n",
       "D         NaN\n",
       "B         NaN\n",
       "C         NaN\n",
       "E         NaN\n",
       "Q         NaN\n",
       "Z         NaN\n",
       "G   -0.215762\n",
       "H         NaN\n",
       "I         NaN\n",
       "L   -0.346574\n",
       "K         NaN\n",
       "M         NaN\n",
       "F         NaN\n",
       "P         NaN\n",
       "T         NaN\n",
       "W         NaN\n",
       "Y         NaN\n",
       "V         NaN\n",
       "Name: 4, dtype: float64"
      ]
     },
     "execution_count": 138,
     "metadata": {},
     "output_type": "execute_result"
    }
   ],
   "source": [
    "#-------------test with toy sequence\n",
    "list_AA = ['G','A','V','L','I','N','C','Q','H','M','F','P','S','T','W','Y','R','K','E','D','X']\n",
    "\n",
    "seq1 = list(Seq(\"GGGGGLLLLL\",IUPAC.protein))\n",
    "seq2 = list(Seq(\"LLGLLGGGGG\",IUPAC.protein))\n",
    "seq3 = list(Seq(\"GGGGGLLLLL\",IUPAC.protein))\n",
    "seq4 = list(Seq(\"GGGGGLLLLL\",IUPAC.protein))\n",
    "seq_lst = [seq1, seq2, seq3, seq4]\n",
    "\n",
    "N_t = 2\n",
    "\n",
    "myProtSeq = Prot_Seq_Entropy(seq_lst, 5)\n",
    "myProtSeq.entropy_of_resnum(4)"
   ]
  },
  {
   "cell_type": "code",
   "execution_count": 5,
   "metadata": {},
   "outputs": [
    {
     "name": "stdout",
     "output_type": "stream",
     "text": [
      "[[0. 0. 1. 0. 0. 1. 1. 1. 1. 1.]\n",
      " [0. 0. 1. 0. 0. 1. 1. 1. 1. 1.]\n",
      " [0. 0. 1. 0. 0. 1. 1. 1. 1. 1.]\n",
      " [0. 0. 1. 0. 0. 1. 1. 1. 1. 1.]\n",
      " [0. 0. 1. 0. 0. 1. 1. 1. 1. 1.]\n",
      " [1. 1. 0. 1. 1. 0. 0. 0. 0. 0.]\n",
      " [1. 1. 0. 1. 1. 0. 0. 0. 0. 0.]\n",
      " [1. 1. 0. 1. 1. 0. 0. 0. 0. 0.]\n",
      " [1. 1. 0. 1. 1. 0. 0. 0. 0. 0.]\n",
      " [1. 1. 0. 1. 1. 0. 0. 0. 0. 0.]]\n"
     ]
    },
    {
     "data": {
      "text/plain": [
       "<matplotlib.colorbar.Colorbar at 0x10a25feb8>"
      ]
     },
     "execution_count": 5,
     "metadata": {},
     "output_type": "execute_result"
    },
    {
     "data": {
      "image/png": "[encoded data removed]",
      "text/plain": [
       "<Figure size 288x288 with 2 Axes>"
      ]
     },
     "metadata": {},
     "output_type": "display_data"
    }
   ],
   "source": [
    "\n",
    "#-----------initialize empty probability list for each AA    \n",
    "p_AA = np.zeros((len(seq1)))    \n",
    "    \n",
    "\n",
    "#columns = ['i','j','p_A','p_B','p_AB']\n",
    "#index = range(0,len(seq1))\n",
    "\n",
    "#df = pd.DataFrame(index=index,columns=columns)\n",
    "\n",
    "#for i in range(len(seq1)):\n",
    "#    for j in range(len(seq2)):\n",
    "#        if seq1[i] == seq2[i]:      \n",
    "         \n",
    "p1 = np.zeros((len(seq1)))\n",
    "p2 = np.zeros((len(seq2)))\n",
    "#s1 = np.zeros((len(seq1),len(seq2)))\n",
    "\n",
    "#def entropy(i,j):\n",
    "#    probs = []\n",
    "#    for i,c1 in enumerate(seq1):\n",
    "#        for j,c2 in enumerate(seq2):\n",
    "                       \n",
    "            #probs.append(np.mean(np.logical_and(X == c1, Y == c2)))\n",
    "\n",
    "#    return np.sum(-p * np.log2(p) for p in probs)\n",
    "    \n",
    "\n",
    "cs = np.zeros((len(seq1),len(seq2)))\n",
    "\n",
    "for i,z1 in enumerate(seq1):\n",
    "    for j,z2 in enumerate(seq2):\n",
    "        if z1 == z2:\n",
    "            #if i == j:\n",
    "                cs[i,j] += 1\n",
    "                #print(i,j,z1,z2)\n",
    "print(cs)\n",
    "        #else:\n",
    "        #        cs[i,j] = 0\n",
    "            \n",
    "plt.matshow(cs)\n",
    "plt.colorbar()\n",
    "\n"
   ]
  },
  {
   "cell_type": "code",
   "execution_count": 6,
   "metadata": {},
   "outputs": [
    {
     "ename": "NameError",
     "evalue": "name 'seq_record1' is not defined",
     "output_type": "error",
     "traceback": [
      "\u001b[0;31m---------------------------------------------------------------------------\u001b[0m",
      "\u001b[0;31mNameError\u001b[0m                                 Traceback (most recent call last)",
      "\u001b[0;32m<ipython-input-6-c0992fbfd03a>\u001b[0m in \u001b[0;36m<module>\u001b[0;34m()\u001b[0m\n\u001b[1;32m      5\u001b[0m \u001b[0mmsa_lst3\u001b[0m \u001b[0;34m=\u001b[0m \u001b[0;34m[\u001b[0m\u001b[0;34m]\u001b[0m\u001b[0;34m\u001b[0m\u001b[0m\n\u001b[1;32m      6\u001b[0m \u001b[0;34m\u001b[0m\u001b[0m\n\u001b[0;32m----> 7\u001b[0;31m \u001b[0;32mfor\u001b[0m \u001b[0mi\u001b[0m \u001b[0;32min\u001b[0m \u001b[0mseq_record1\u001b[0m\u001b[0;34m:\u001b[0m\u001b[0;34m\u001b[0m\u001b[0m\n\u001b[0m\u001b[1;32m      8\u001b[0m     \u001b[0mmsa_lst1\u001b[0m\u001b[0;34m.\u001b[0m\u001b[0mappend\u001b[0m\u001b[0;34m(\u001b[0m\u001b[0mi\u001b[0m\u001b[0;34m.\u001b[0m\u001b[0mseq\u001b[0m\u001b[0;34m)\u001b[0m\u001b[0;34m\u001b[0m\u001b[0m\n\u001b[1;32m      9\u001b[0m \u001b[0;34m\u001b[0m\u001b[0m\n",
      "\u001b[0;31mNameError\u001b[0m: name 'seq_record1' is not defined"
     ]
    }
   ],
   "source": [
    "#------------------------------------\n",
    "\n",
    "# seq_record1 = list(SeqIO.parse(\"1.aln\", \"clustal\"))\n",
    "# seq_record2 = list(SeqIO.parse(\"2.aln\", \"clustal\"))\n",
    "# seq_record3 = list(SeqIO.parse(\"3.aln\", \"clustal\"))\n",
    "\n",
    "msa_lst1 = []\n",
    "msa_lst2 = []\n",
    "msa_lst3 = []\n",
    "\n",
    "for i in seq_record1:\n",
    "    msa_lst1.append(i.seq)\n",
    "\n",
    "for i in seq_record2:\n",
    "    msa_lst2.append(i.seq)\n",
    "\n",
    "for i in seq_record3:\n",
    "    msa_lst3.append(i.seq)\n",
    "    \n",
    "msa_lst1 = [str(s).replace('-','X') for s in msa_lst1]\n",
    "msa_lst2 = [str(s).replace('-','X') for s in msa_lst2]\n",
    "msa_lst3 = [str(s).replace('-','X') for s in msa_lst3]\n",
    "\n",
    "n_A = 169 #---number of residues in each aligned Dpr\n",
    "n_B = 108 #---number of residues in each aligned DIP\n",
    "n_tot = 277 #---number of residues in each aligned Dpr-DIP complex\n",
    "\n",
    "print((msa_lst3[0][:n_A]))\n",
    "print(len(msa_lst3[0][:n_A]))\n",
    "print((msa_lst3[0][n_A+1:n_tot]))\n",
    "print(len(msa_lst3[0][n_A:]))\n",
    "print(msa_lst3[0])\n",
    "print(len(msa_lst3[0]))\n",
    "\n",
    "\n",
    "#print(len(msa_lst3[0]))\n",
    "#print(len(msa_lst1[0]))\n",
    "#print(len(msa_lst2[8]))\n",
    "\n",
    "count = np.zeros((len(msa_lst1[0]),len(msa_lst2[0])))\n",
    "\n",
    "#for l1 in msa_lst1: # 21\n",
    "#    for l2 in msa_lst2: # 9\n",
    "for i,s1 in enumerate(msa_lst1[0]):\n",
    "    for j,s2 in enumerate(msa_lst2[0]):\n",
    "        \n",
    "        if s1 == s2:\n",
    "            #if i == j:\n",
    "                count[i,j] += 1\n",
    "                #print(i,j,s1,s2)\n",
    "        #else:\n",
    "        #       count[i,j] = 0\n",
    "                \n",
    "#print(count)\n",
    "\n",
    "plt.matshow(count)\n",
    "plt.colorbar()\n",
    "\n"
   ]
  },
  {
   "cell_type": "code",
   "execution_count": null,
   "metadata": {},
   "outputs": [],
   "source": []
  }
 ],
 "metadata": {
  "kernelspec": {
   "display_name": "Python 3",
   "language": "python",
   "name": "python3"
  },
  "language_info": {
   "codemirror_mode": {
    "name": "ipython",
    "version": 3
   },
   "file_extension": ".py",
   "mimetype": "text/x-python",
   "name": "python",
   "nbconvert_exporter": "python",
   "pygments_lexer": "ipython3",
   "version": "3.6.5"
  }
 },
 "nbformat": 4,
 "nbformat_minor": 2
}
